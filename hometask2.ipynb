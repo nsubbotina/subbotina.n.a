{
 "cells": [
  {
   "cell_type": "code",
   "execution_count": 1,
   "metadata": {
    "scrolled": true
   },
   "outputs": [
    {
     "name": "stdout",
     "output_type": "stream",
     "text": [
      "[[0.69824642 0.41794864 0.46627098]\n",
      " [0.89870127 0.50826207 0.8965691 ]\n",
      " [0.35949781 0.94800181 0.37830107]\n",
      " [0.04574375 0.95820389 0.76459079]\n",
      " [0.52573237 0.88421974 0.53374465]\n",
      " [0.43275742 0.8700188  0.95858794]\n",
      " [0.76473389 0.6143473  0.84548757]\n",
      " [0.55036506 0.01705212 0.90687993]\n",
      " [0.397402   0.89062222 0.95527987]\n",
      " [0.03432103 0.43574676 0.08108845]]\n",
      "[0.46627098 0.50826207 0.37830107 0.76459079 0.52573237 0.43275742\n",
      " 0.6143473  0.55036506 0.397402   0.43574676]\n"
     ]
    }
   ],
   "source": [
    "import numpy as np\n",
    "a = np.random.random((10,3))\n",
    "print (a)\n",
    "b = abs(a - 0.5)\n",
    "res = a[np.arange(10), np.argmin(b, axis = 1)]\n",
    "print (res)"
   ]
  },
  {
   "cell_type": "code",
   "execution_count": 2,
   "metadata": {},
   "outputs": [
    {
     "name": "stdout",
     "output_type": "stream",
     "text": [
      "[[0.60255916 0.73716508 0.64316462 0.91380075 0.20760798 0.58559558]\n",
      " [0.69711753 0.19152809 0.01991084 0.06239057 0.07747178 0.19120804]\n",
      " [0.63154721 0.03711934 0.47759256 0.66798723 0.21612776 0.89070145]\n",
      " [0.31292876 0.33465117 0.3481523  0.7159023  0.58383688 0.8983947 ]\n",
      " [0.42697818 0.38165937 0.66853422 0.11010017 0.40498058 0.84656224]\n",
      " [0.2611176  0.44530059 0.71393629 0.35323981 0.18681729 0.74541666]]\n",
      "[ 14.13115489  33.39571523 146.70782992  51.19149034  36.64321148\n",
      "  14.15122662]\n"
     ]
    }
   ],
   "source": [
    "import numpy as np\n",
    "a = np.random.random((6,6))\n",
    "print (a)\n",
    "b = np.sum(a, axis = 1)\n",
    "c = np.argmin(a, axis = 0)\n",
    "print (b/a[c, np.arange(6)])"
   ]
  },
  {
   "cell_type": "code",
   "execution_count": 3,
   "metadata": {},
   "outputs": [
    {
     "name": "stdout",
     "output_type": "stream",
     "text": [
      "5\n"
     ]
    }
   ],
   "source": [
    "import numpy as np\n",
    "x = np.array([6, 2, 0, 3, 0, 0, 5, 7, 0])\n",
    "zero = x==0\n",
    "print (x[1:][zero[:-1]].max())"
   ]
  },
  {
   "cell_type": "code",
   "execution_count": 5,
   "metadata": {},
   "outputs": [
    {
     "name": "stdout",
     "output_type": "stream",
     "text": [
      "[2. 2. 2. 2. 1. 4. 1. 1. 2. 1.]\n"
     ]
    }
   ],
   "source": [
    "import numpy as np\n",
    "x = np.ones(10)\n",
    "i = np.array([0, 1, 2, 3, 5, 5, 5, 8])\n",
    "np.add.at (x, i, 1)\n",
    "print(x)"
   ]
  },
  {
   "cell_type": "code",
   "execution_count": 26,
   "metadata": {},
   "outputs": [
    {
     "name": "stdout",
     "output_type": "stream",
     "text": [
      "[[ 0  1  2  3]\n",
      " [ 4  5  6  7]\n",
      " [ 8  9 10 11]\n",
      " [12 13 14 15]]\n",
      "{0: [0]}\n",
      "{1: [1, 4]}\n",
      "{2: [2, 5, 8]}\n",
      "{3: [3, 6, 9, 12]}\n",
      "{4: [7, 10, 13]}\n",
      "{5: [11, 14]}\n",
      "{6: [15]}\n"
     ]
    }
   ],
   "source": [
    "import numpy as np\n",
    "a = np.arange(16).reshape(4, 4)\n",
    "N=a.shape[0]\n",
    "print (a)\n",
    "for i in range (2*N-1):\n",
    "    print ( {i : [a[j][i-j] for j in range(i+1) if j < N and i-j < N]})"
   ]
  }
 ],
 "metadata": {
  "kernelspec": {
   "display_name": "Python 3",
   "language": "python",
   "name": "python3"
  },
  "language_info": {
   "codemirror_mode": {
    "name": "ipython",
    "version": 3
   },
   "file_extension": ".py",
   "mimetype": "text/x-python",
   "name": "python",
   "nbconvert_exporter": "python",
   "pygments_lexer": "ipython3",
   "version": "3.7.0"
  }
 },
 "nbformat": 4,
 "nbformat_minor": 2
}
