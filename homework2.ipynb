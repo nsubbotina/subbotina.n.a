{
 "cells": [
  {
   "cell_type": "code",
   "execution_count": 14,
   "metadata": {},
   "outputs": [
    {
     "name": "stdout",
     "output_type": "stream",
     "text": [
      "[[0.82428326 0.59710729 0.87119092]\n",
      " [0.49276876 0.0867404  0.98026072]\n",
      " [0.35644133 0.82870191 0.44579407]\n",
      " [0.86399754 0.85069485 0.52367992]\n",
      " [0.48864885 0.34597502 0.63038402]\n",
      " [0.56016952 0.81439027 0.24584113]\n",
      " [0.73086141 0.82497621 0.56407044]\n",
      " [0.72233977 0.41272243 0.30344041]\n",
      " [0.34985541 0.06924023 0.20748292]\n",
      " [0.41281896 0.20817494 0.73946629]]\n",
      "0.597107287540529\n",
      "0.49276876362025557\n",
      "0.4457940694973688\n",
      "0.5236799223152843\n",
      "0.4886488549167062\n",
      "0.560169522516609\n",
      "0.5640704432830045\n",
      "0.4127224314857373\n",
      "0.3498554083733505\n",
      "0.41281895657619794\n"
     ]
    }
   ],
   "source": [
    "import numpy as np\n",
    "a = np.random.random((10,3))\n",
    "print (a)\n",
    "b = abs(a - 0.5)\n",
    "res = np.argmin(b, axis = 1)\n",
    "for i in range (10):\n",
    "    print (a[i][res[i]])\n"
   ]
  },
  {
   "cell_type": "code",
   "execution_count": 69,
   "metadata": {},
   "outputs": [
    {
     "name": "stdout",
     "output_type": "stream",
     "text": [
      "[[0.75096694 0.35421158 0.51306286 0.90116673 0.3249271  0.39895388]\n",
      " [0.17948848 0.35747194 0.57637195 0.6054505  0.71091637 0.93287302]\n",
      " [0.99944291 0.92510002 0.1414238  0.93408953 0.21697735 0.47319434]\n",
      " [0.04805163 0.77372404 0.4303373  0.22030671 0.89515737 0.82038665]\n",
      " [0.1069818  0.74379501 0.98398178 0.54638116 0.54123382 0.25482221]\n",
      " [0.2885168  0.28197739 0.83023753 0.23082331 0.1313554  0.12847022]]\n",
      "[3.24328908 3.36257225 3.69022796 3.18796371 3.17719577 1.89138065]\n",
      "[3 5 2 3 5 5]\n",
      "67.49591965253188\n",
      "11.924971130491013\n",
      "26.093400627319827\n",
      "14.470569842313964\n",
      "24.187781161589825\n",
      "14.722327811861863\n"
     ]
    }
   ],
   "source": [
    "import numpy as np\n",
    "a = np.random.random((6,6))\n",
    "print (a)\n",
    "b = np.sum(a, axis = 1)\n",
    "print(b)\n",
    "c = np.argmin(a, axis = 0)\n",
    "print (c)\n",
    "for i in range(6):\n",
    "    print (b[i]/a[c[i]][i])"
   ]
  },
  {
   "cell_type": "code",
   "execution_count": 73,
   "metadata": {},
   "outputs": [
    {
     "name": "stdout",
     "output_type": "stream",
     "text": [
      "5\n"
     ]
    }
   ],
   "source": [
    "import numpy as np\n",
    "x = np.array([6, 2, 0, 3, 0, 0, 5, 7, 0])\n",
    "zero = x==0\n",
    "print (x[1:][zero[:-1]].max())"
   ]
  },
  {
   "cell_type": "code",
   "execution_count": 79,
   "metadata": {},
   "outputs": [
    {
     "name": "stdout",
     "output_type": "stream",
     "text": [
      "2.0\n",
      "2.0\n",
      "2.0\n",
      "2.0\n",
      "1.0\n",
      "4.0\n",
      "1.0\n",
      "1.0\n",
      "2.0\n",
      "1.0\n"
     ]
    }
   ],
   "source": [
    "import numpy as np\n",
    "x = np.ones(10)\n",
    "i = np.array([0, 1, 2, 3, 5, 5, 5, 8])\n",
    "for j in range(10):\n",
    "    mask = i - j == 0\n",
    "    print (x[j]+len(i[mask]))\n"
   ]
  },
  {
   "cell_type": "code",
   "execution_count": 23,
   "metadata": {},
   "outputs": [
    {
     "name": "stdout",
     "output_type": "stream",
     "text": [
      "[[ 0  1  2  3]\n",
      " [ 4  5  6  7]\n",
      " [ 8  9 10 11]\n",
      " [12 13 14 15]]\n"
     ]
    },
    {
     "ename": "AttributeError",
     "evalue": "'builtin_function_or_method' object has no attribute 'append'",
     "output_type": "error",
     "traceback": [
      "\u001b[1;31m---------------------------------------------------------------------------\u001b[0m",
      "\u001b[1;31mAttributeError\u001b[0m                            Traceback (most recent call last)",
      "\u001b[1;32m<ipython-input-23-bf1778342c18>\u001b[0m in \u001b[0;36m<module>\u001b[1;34m()\u001b[0m\n\u001b[0;32m      4\u001b[0m \u001b[0mkey\u001b[0m \u001b[1;33m=\u001b[0m \u001b[0mnp\u001b[0m\u001b[1;33m.\u001b[0m\u001b[0marray\u001b[0m\u001b[1;33m\u001b[0m\u001b[0m\n\u001b[0;32m      5\u001b[0m \u001b[1;32mfor\u001b[0m \u001b[0mi\u001b[0m \u001b[1;32min\u001b[0m \u001b[0mrange\u001b[0m \u001b[1;33m(\u001b[0m\u001b[1;36m4\u001b[0m\u001b[1;33m)\u001b[0m\u001b[1;33m:\u001b[0m\u001b[1;33m\u001b[0m\u001b[0m\n\u001b[1;32m----> 6\u001b[1;33m     \u001b[0mkey\u001b[0m\u001b[1;33m.\u001b[0m\u001b[0mappend\u001b[0m \u001b[1;33m=\u001b[0m \u001b[0mi\u001b[0m\u001b[1;33m\u001b[0m\u001b[0m\n\u001b[0m\u001b[0;32m      7\u001b[0m     \u001b[1;32mfor\u001b[0m \u001b[0mj\u001b[0m \u001b[1;32min\u001b[0m \u001b[0mrange\u001b[0m\u001b[1;33m(\u001b[0m\u001b[0mi\u001b[0m\u001b[1;33m+\u001b[0m\u001b[1;36m1\u001b[0m\u001b[1;33m)\u001b[0m\u001b[1;33m:\u001b[0m\u001b[1;33m\u001b[0m\u001b[0m\n\u001b[0;32m      8\u001b[0m         \u001b[0mvalue\u001b[0m \u001b[1;33m=\u001b[0m \u001b[1;33m[\u001b[0m\u001b[0ma\u001b[0m\u001b[1;33m[\u001b[0m\u001b[0mi\u001b[0m\u001b[1;33m]\u001b[0m\u001b[1;33m[\u001b[0m\u001b[0mi\u001b[0m\u001b[1;33m-\u001b[0m\u001b[0mj\u001b[0m\u001b[1;33m]\u001b[0m\u001b[1;33m]\u001b[0m\u001b[1;33m\u001b[0m\u001b[0m\n",
      "\u001b[1;31mAttributeError\u001b[0m: 'builtin_function_or_method' object has no attribute 'append'"
     ]
    }
   ],
   "source": [
    "import numpy as np\n",
    "a = np.arange(16).reshape(4, 4)\n",
    "print (a)\n",
    "key = np.array\n",
    "for i in range (4):\n",
    "    key.append = i\n",
    "    for j in range(i+1):\n",
    "        value = [a[i][i-j]]\n",
    "print (key)\n",
    "print(value)"
   ]
  },
  {
   "cell_type": "code",
   "execution_count": null,
   "metadata": {},
   "outputs": [],
   "source": []
  },
  {
   "cell_type": "code",
   "execution_count": null,
   "metadata": {},
   "outputs": [],
   "source": []
  }
 ],
 "metadata": {
  "kernelspec": {
   "display_name": "Python 3",
   "language": "python",
   "name": "python3"
  },
  "language_info": {
   "codemirror_mode": {
    "name": "ipython",
    "version": 3
   },
   "file_extension": ".py",
   "mimetype": "text/x-python",
   "name": "python",
   "nbconvert_exporter": "python",
   "pygments_lexer": "ipython3",
   "version": "3.7.0"
  }
 },
 "nbformat": 4,
 "nbformat_minor": 2
}
