{
 "cells": [
  {
   "cell_type": "code",
   "execution_count": 1,
   "metadata": {},
   "outputs": [
    {
     "name": "stdout",
     "output_type": "stream",
     "text": [
      "[1, 1, 2, 3]\n"
     ]
    }
   ],
   "source": [
    "a = [1, 1, 2, 3, 5, 8, 13, 21, 34, 55, 89]\n",
    "n =[]\n",
    "for i in a:\n",
    "    if i < 5:\n",
    "        n.append(i)\n",
    "print (n)"
   ]
  },
  {
   "cell_type": "code",
   "execution_count": 2,
   "metadata": {},
   "outputs": [
    {
     "name": "stdout",
     "output_type": "stream",
     "text": [
      "input number: 35\n",
      "[1, 5, 7, 35]\n"
     ]
    }
   ],
   "source": [
    "n = int(input(\"input number: \"))\n",
    "d =[]\n",
    "for i in range(1, n+1):\n",
    "    if n%i == 0:\n",
    "        d.append(i)\n",
    "print (d)"
   ]
  },
  {
   "cell_type": "code",
   "execution_count": 3,
   "metadata": {},
   "outputs": [
    {
     "name": "stdout",
     "output_type": "stream",
     "text": [
      "input number: 5\n",
      "exactly right\n"
     ]
    }
   ],
   "source": [
    "import random\n",
    "n = random.randint(1,9)\n",
    "x = 0\n",
    "while x != \"exit\" :\n",
    "    x = input(\"input number: \")\n",
    "    if x == \"exit\":\n",
    "        break\n",
    "    x = int(x)\n",
    "    if x < n:\n",
    "        print (\"too low\")\n",
    "    if x > n:\n",
    "        print (\"too high\")\n",
    "    if x == n:\n",
    "        print (\"exactly right\")\n",
    "        break\n"
   ]
  },
  {
   "cell_type": "code",
   "execution_count": 4,
   "metadata": {},
   "outputs": [
    {
     "name": "stdout",
     "output_type": "stream",
     "text": [
      "input long string my name is Natasha\n",
      "Natasha is name my\n"
     ]
    }
   ],
   "source": [
    "string = str(input(\"input long string \"))\n",
    "list = string.split()\n",
    "list.reverse()\n",
    "result = \" \".join(list)\n",
    "print (result)"
   ]
  },
  {
   "cell_type": "code",
   "execution_count": 5,
   "metadata": {},
   "outputs": [
    {
     "name": "stdout",
     "output_type": "stream",
     "text": [
      "How many numbers? 6\n",
      "[1, 1, 2, 3, 5, 8]\n"
     ]
    }
   ],
   "source": [
    "n = int(input(\"How many numbers? \"))\n",
    "fib = []\n",
    "if n == 1:\n",
    "    fib.append(1)\n",
    "if n == 2:\n",
    "    fib.append(1)\n",
    "    fib.append(1)\n",
    "if n>2:\n",
    "    fib.append(1)\n",
    "    fib.append(1)\n",
    "    for i in range(1,n-1):\n",
    "        new = fib[i-1]+fib[i]\n",
    "        fib.append(new)\n",
    "print (fib)"
   ]
  },
  {
   "cell_type": "code",
   "execution_count": null,
   "metadata": {},
   "outputs": [],
   "source": []
  }
 ],
 "metadata": {
  "kernelspec": {
   "display_name": "Python 3",
   "language": "python",
   "name": "python3"
  },
  "language_info": {
   "codemirror_mode": {
    "name": "ipython",
    "version": 3
   },
   "file_extension": ".py",
   "mimetype": "text/x-python",
   "name": "python",
   "nbconvert_exporter": "python",
   "pygments_lexer": "ipython3",
   "version": "3.7.0"
  }
 },
 "nbformat": 4,
 "nbformat_minor": 2
}
