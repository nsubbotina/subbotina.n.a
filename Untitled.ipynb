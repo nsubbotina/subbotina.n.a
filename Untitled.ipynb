{
 "cells": [
  {
   "cell_type": "code",
   "execution_count": null,
   "metadata": {},
   "outputs": [],
   "source": [
    "a = [1, 1, 2, 3, 5, 8, 13, 21, 34, 55, 89]\n",
    "n =[]\n",
    "for i in a:\n",
    "    if i < 5:\n",
    "        n.append(i)\n",
    "print (n)"
   ]
  },
  {
   "cell_type": "code",
   "execution_count": null,
   "metadata": {},
   "outputs": [],
   "source": [
    "n = int(input(\"input number: \"))\n",
    "d =[]\n",
    "for i in range(1, n+1):\n",
    "    if n%i == 0:\n",
    "        d.append(i)\n",
    "print (d)"
   ]
  },
  {
   "cell_type": "code",
   "execution_count": null,
   "metadata": {},
   "outputs": [],
   "source": [
    "import random\n",
    "n = random.randint(1,9)\n",
    "x = 0\n",
    "while x != \"exit\" :\n",
    "    x = input(\"input number: \")\n",
    "    if x == \"exit\":\n",
    "        break\n",
    "    x = int(x)\n",
    "    if x < n:\n",
    "        print (\"too low\")\n",
    "    if x > n:\n",
    "        print (\"too high\")\n",
    "    if x == n:\n",
    "        print (\"exactly right\")\n",
    "        break\n"
   ]
  },
  {
   "cell_type": "code",
   "execution_count": null,
   "metadata": {},
   "outputs": [],
   "source": [
    "string = str(input(\"input long string \"))\n",
    "list = string.split()\n",
    "list.reverse()\n",
    "result = \" \".join(list)\n",
    "print (result)"
   ]
  },
  {
   "cell_type": "code",
   "execution_count": 13,
   "metadata": {},
   "outputs": [
    {
     "name": "stdout",
     "output_type": "stream",
     "text": [
      "How many numbers? 7\n",
      "[1, 1, 2, 3, 5, 8, 13]\n"
     ]
    }
   ],
   "source": [
    "n = int(input(\"How many numbers? \"))\n",
    "fib = []\n",
    "if n == 1:\n",
    "    fib.append(1)\n",
    "if n == 2:\n",
    "    fib.append(1)\n",
    "    fib.append(1)\n",
    "if n>2:\n",
    "    fib.append(1)\n",
    "    fib.append(1)\n",
    "    for i in range(1,n-1):\n",
    "        new = fib[i-1]+fib[i]\n",
    "        fib.append(new)\n",
    "print (fib)"
   ]
  },
  {
   "cell_type": "code",
   "execution_count": null,
   "metadata": {},
   "outputs": [],
   "source": []
  }
 ],
 "metadata": {
  "kernelspec": {
   "display_name": "Python 3",
   "language": "python",
   "name": "python3"
  }
 },
 "nbformat": 4,
 "nbformat_minor": 2
}
